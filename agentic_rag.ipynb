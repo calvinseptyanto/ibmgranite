{
  "nbformat": 4,
  "nbformat_minor": 0,
  "metadata": {
    "colab": {
      "provenance": [],
      "gpuType": "T4"
    },
    "kernelspec": {
      "name": "python3",
      "display_name": "Python 3"
    },
    "language_info": {
      "name": "python"
    },
    "accelerator": "GPU"
  },
  "cells": [
    {
      "cell_type": "code",
      "execution_count": 1,
      "metadata": {
        "colab": {
          "base_uri": "https://localhost:8080/"
        },
        "id": "ORSyC7LoJ7Mv",
        "outputId": "814ba966-6feb-4fec-c0fd-fade5474ed3c"
      },
      "outputs": [
        {
          "output_type": "stream",
          "name": "stdout",
          "text": [
            "Requirement already satisfied: sniffio>=1.1 in /usr/local/lib/python3.11/dist-packages (from anyio->httpx<1,>=0.23.0->langsmith<0.4,>=0.1.17->langchain) (1.3.1)\n",
            "Requirement already satisfied: sniffio>=1.1 in /usr/local/lib/python3.11/dist-packages (from anyio->httpx->ibm-watsonx-ai<2.0.0,>=1.1.16->langchain-ibm) (1.3.1)\n",
            "Requirement already satisfied: sniffio>=1.1 in /usr/local/lib/python3.11/dist-packages (from anyio->httpx<1,>=0.23.0->langsmith<0.4,>=0.1.125->langchain-community) (1.3.1)\n",
            "Requirement already satisfied: sniffio>=1.1 in /usr/local/lib/python3.11/dist-packages (from anyio->httpx->ibm-watsonx-ai) (1.3.1)\n",
            "Requirement already satisfied: six>=1.10.0 in /usr/local/lib/python3.11/dist-packages (from lomond->ibm_watson_machine_learning) (1.17.0)\n",
            "Requirement already satisfied: pyasn1<0.7.0,>=0.4.6 in /usr/local/lib/python3.11/dist-packages (from pyasn1-modules>=0.2.1->google-auth>=1.0.1->kubernetes>=28.1.0->chromadb) (0.6.1)\n",
            "Requirement already satisfied: certifi>=2017.4.17 in /usr/local/lib/python3.11/dist-packages (from requests>=2.26.0->tiktoken) (2025.1.31)\n",
            "Requirement already satisfied: python-dotenv in /usr/local/lib/python3.11/dist-packages (1.0.1)\n",
            "Requirement already satisfied: typing-extensions>=4.0.0 in /usr/local/lib/python3.11/dist-packages (from beautifulsoup4->bs4) (4.12.2)\n",
            "Requirement already satisfied: pypdf in /usr/local/lib/python3.11/dist-packages (5.3.0)\n"
          ]
        }
      ],
      "source": [
        "!pip install langchain | tail -n 1\n",
        "\n",
        "!pip install langchain-ibm | tail -n 1\n",
        "\n",
        "!pip install langchain-community | tail -n 1\n",
        "\n",
        "!pip install ibm-watsonx-ai | tail -n 1\n",
        "\n",
        "!pip install ibm_watson_machine_learning | tail -n 1\n",
        "\n",
        "!pip install chromadb | tail -n 1\n",
        "\n",
        "!pip install tiktoken | tail -n 1\n",
        "\n",
        "!pip install python-dotenv | tail -n 1\n",
        "\n",
        "!pip install bs4 | tail -n 1\n",
        "\n",
        "!pip install pypdf | tail -n 1"
      ]
    },
    {
      "cell_type": "code",
      "source": [
        "import os\n",
        "\n",
        "from langchain_ibm import WatsonxEmbeddings, WatsonxLLM\n",
        "\n",
        "from langchain.vectorstores import Chroma\n",
        "\n",
        "from langchain_community.document_loaders import PyPDFLoader\n",
        "\n",
        "from langchain.text_splitter import RecursiveCharacterTextSplitter\n",
        "\n",
        "from langchain_core.prompts import ChatPromptTemplate, MessagesPlaceholder\n",
        "\n",
        "from langchain.prompts import PromptTemplate\n",
        "\n",
        "from langchain.tools import tool\n",
        "\n",
        "from langchain.tools.render import render_text_description_and_args\n",
        "\n",
        "from langchain.agents.output_parsers import JSONAgentOutputParser\n",
        "\n",
        "from langchain.agents.format_scratchpad import format_log_to_str\n",
        "\n",
        "from langchain.agents import AgentExecutor\n",
        "\n",
        "from langchain.memory import ConversationBufferMemory\n",
        "\n",
        "from langchain_core.runnables import RunnablePassthrough\n",
        "\n",
        "from ibm_watson_machine_learning.metanames import GenTextParamsMetaNames as GenParams\n",
        "\n",
        "from ibm_watsonx_ai.foundation_models.utils.enums import EmbeddingTypes"
      ],
      "metadata": {
        "id": "62--JpCWKF05"
      },
      "execution_count": 2,
      "outputs": []
    },
    {
      "cell_type": "code",
      "source": [
        "llm = WatsonxLLM(\n",
        "\n",
        "    model_id=\"ibm/granite-3-8b-instruct\",\n",
        "\n",
        "    url=\"https://us-south.ml.cloud.ibm.com\",\n",
        "\n",
        "    apikey=\"oQBrX7C8IauX85QIVPvct9ROUGdy0SArQM5qfUjmsQGV\",\n",
        "\n",
        "    project_id=\"41c124f4-93e9-4c59-8ce3-659034693834\",\n",
        "\n",
        "    params={\n",
        "\n",
        "        GenParams.DECODING_METHOD: \"greedy\",\n",
        "\n",
        "        GenParams.TEMPERATURE: 0,\n",
        "\n",
        "        GenParams.MIN_NEW_TOKENS: 5,\n",
        "\n",
        "        GenParams.MAX_NEW_TOKENS: 500,\n",
        "\n",
        "        GenParams.STOP_SEQUENCES: [\"Human:\", \"Observation\"],\n",
        "\n",
        "    },\n",
        "\n",
        ")"
      ],
      "metadata": {
        "id": "p_xKptu4LGqU"
      },
      "execution_count": 3,
      "outputs": []
    },
    {
      "cell_type": "code",
      "source": [
        "template = \"Answer the {query} accurately. If you do not know the answer, simply say you do not know.\"\n",
        "\n",
        "prompt = PromptTemplate.from_template(template)"
      ],
      "metadata": {
        "id": "CmqPWrC1Lgfq"
      },
      "execution_count": 4,
      "outputs": []
    },
    {
      "cell_type": "code",
      "source": [
        "agent = prompt | llm"
      ],
      "metadata": {
        "id": "OhLqVfPtLj6_"
      },
      "execution_count": 5,
      "outputs": []
    },
    {
      "cell_type": "code",
      "source": [
        "# List all PDF files in the current directory\n",
        "pdf_files = [f for f in os.listdir('.') if f.endswith('.pdf')]\n",
        "\n",
        "# Load each PDF file using PyPDFLoader\n",
        "docs = [PyPDFLoader(pdf_file).load() for pdf_file in pdf_files]\n",
        "\n",
        "# Flatten the list (if each load returns a list of documents)\n",
        "docs_list = [doc for sublist in docs for doc in sublist]\n",
        "\n",
        "# Print the first document\n",
        "print(docs_list[0])"
      ],
      "metadata": {
        "colab": {
          "base_uri": "https://localhost:8080/"
        },
        "id": "oiyvl5s0LoaX",
        "outputId": "7dd02235-3ecf-49f9-bee1-acf39b4105b0"
      },
      "execution_count": 6,
      "outputs": [
        {
          "output_type": "stream",
          "name": "stdout",
          "text": [
            "page_content='S\n",
            "a\n",
            "m\n",
            "p\n",
            "l\n",
            "e\n",
            " \n",
            " MEMORANDUM OF UNDERSTANDING \n",
            " THIS MEMORANDUM OF UNDERSTANDING (\"MOU\") is entered into this 31st day of March, \n",
            " 2017 (the \"Effective Date\") by and between Tally  Inc. (\"Tally \") and BuyCo Limited  (\"BuyCo\"). \n",
            " This MOU confirms the mutual understandings of previous discussions between the parties \n",
            " with respect to the distribution of Products by Tally 's channel partners to the customers within  ARC \n",
            " previously served by Channel Partners, namely, ABC, XYZ, and DMXZ (\"Designated  Channel \n",
            " Partners\"), as defined in the Amended and Restated BuyCo Distribution Agreement,  effective \n",
            " December 21, 2005, between the parties hereto (the \"Distribution Agreement\"). The parties  have \n",
            " agreed as follows. \n",
            " 1.  Binding  . All terms and conditions expressed in  this MOU are the agreement made in the \n",
            " course of negotiation and shall be executed by the parties in good faith. \n",
            " 2.  Limited Distribution by Tally  to BuyCo ARC Accounts  .  Notwithstanding the provisions in  the \n",
            " Sections 2.1.1 and 2.2 of the Distribution Agreement, Tally  may by itself market, sell or  otherwise \n",
            " distribute Products, or Tally  may appoint its sales representatives or channel partners  (collectively, \n",
            " \"Tally  Channel Partners\"), and may cause those Tally  Channel Partners to,  market, sell or \n",
            " otherwise distribute Products, during the Term, with respect to Designated BuyCo  ARC Customers \n",
            " and Non-Designated BuyCo ARC Customers (both as defined below) subject to the  Tally 's \n",
            " payment of the applicable Service Fee to BuyCo pursuant to the Section 3 and other  amounts due \n",
            " under Section 4 below. Notwithstanding anything to the contrary set forth in this MOU,  Designated \n",
            " BuyCo ARC  Customers and Non-Designated BuyCo ARC  Customers shall be limited to  those \n",
            " customers of Products served by the Designated Channel Partners during the term of the \n",
            " Distribution Agreement but prior to July 1, 2016. Except as expressly provided in this MOU with \n",
            " respect to Designated BuyCo ARC  Customers, Tally  is not receiving any other exceptions to or \n",
            " exemptions from the operation of Sections 2.1.1 and 2.2 of the Distribution Agreement. Subject to \n",
            " the exclusivity provisions of 2.1.1 and 2.2 of the Distribution Agreement , nothing in this MOU shall \n",
            " imply that Tally  has, or ever had, any restriction on the appointment of Tally  Channel  Partners, \n",
            " including any party designated as a BuyCo Channel Partner. \n",
            " 3.  Service Fee for Designated BuyCo ARC  Customers  .  Tally  shall pay to BuyCo a Service \n",
            " Fee equal to the product of (i) Tally 's direct selling price to customer if the Product is not sold \n",
            " through a Channel Partner or Tally  Channel Partners' actual distributor cost for the BuyCo ARC \n",
            " Customers, which are specified in Exhibit A attached hereto and to which Tally  markets, sells or \n",
            " otherwise distributes Products or causes Tally  Channel Partners to, market, sell and otherwise \n",
            " distribute Products (\"Designated BuyCo ARC  Customers\"), multiplied by a Service Fee rate of  (a) \n",
            " 4.3% for SCO Product, and (b) such figure as specified in Section 5 below for Combined Product, \n",
            " for the period beginning from July 1, 2006 through September 30, 2017. If the Distribution \n",
            " Agreement is still in effect on October 1, 2017, the Service Fee shall remain due and payable by \n",
            " Tally  to BuyCo and the rate in (a) and (b) shall \n",
            " be reduced to 1.0% for all Product. This reduced Service Fee rate of 1.0% shall continue until the \n",
            " earlier of December 31, 2017 or the date on which BuyCo's Aggregate Ownership Interest falls \n",
            " below 12.5%. If the Distribution Agreement terminates prior to October 1, 2017, no Service Fee is \n",
            " due or payable for any period after September 30, 2007. Payment of the Service Fee (i) for the \n",
            " period of July 1, 2016 through December 31, 2016 shall be made by April 6, 2017, (ii) for the period \n",
            " of January 1, 2017 through March 31, 2017 shall be made by May 15, 2017, and (iii) for the period \n",
            " thereafter shall be made monthly on the 60  th  day after  the end of each month. \n",
            " 4.  Non-Designated BuyCo ARC  Customers  . Tally  shall  pay to BuyCo an amount equal to  the \n",
            " product of (i) Tally 's direct selling price to customer if the Product is not sold through a  Channel \n",
            " Partner or Tally  Channel Partners' actual distributor cost for Products sold to  customers except \n",
            " Designated BuyCo ARC  Customers which were  serviced  by BuyCo prior to July 1, 2016 \n",
            " (\"Non-Designated BuyCo ARC  Customers\"), to which  Tally  markets, sells or otherwise distributes \n",
            " Sample' metadata={'producer': 'Skia/PDF m127', 'creator': 'Mozilla/5.0 (Macintosh; Intel Mac OS X 10_15_7) AppleWebKit/537.36 (KHTML, like Gecko) Chrome/127.0.0.0 Safari/537.36', 'creationdate': '2024-08-21T21:20:01+00:00', 'title': 'Sales MoU.docx - Google Docs', 'moddate': '2024-08-21T21:20:01+00:00', 'source': 'Sales MoU.pdf', 'total_pages': 3, 'page': 0, 'page_label': '1'}\n"
          ]
        }
      ]
    },
    {
      "cell_type": "code",
      "source": [
        "text_splitter = RecursiveCharacterTextSplitter.from_tiktoken_encoder(chunk_size=500, chunk_overlap=0)"
      ],
      "metadata": {
        "id": "QOeJIrvDL3Qx"
      },
      "execution_count": 7,
      "outputs": []
    },
    {
      "cell_type": "code",
      "source": [
        "doc_splits = text_splitter.split_documents(docs_list)"
      ],
      "metadata": {
        "id": "eRxFEsqbL6lY"
      },
      "execution_count": 8,
      "outputs": []
    },
    {
      "cell_type": "code",
      "source": [
        "embeddings = WatsonxEmbeddings(\n",
        "\n",
        "    model_id=EmbeddingTypes.IBM_SLATE_30M_ENG.value,\n",
        "\n",
        "    url=\"https://us-south.ml.cloud.ibm.com\",\n",
        "\n",
        "    apikey=\"oQBrX7C8IauX85QIVPvct9ROUGdy0SArQM5qfUjmsQGV\",\n",
        "\n",
        "    project_id=\"41c124f4-93e9-4c59-8ce3-659034693834\",\n",
        "\n",
        ")"
      ],
      "metadata": {
        "id": "GKFOItWBL7u9"
      },
      "execution_count": 9,
      "outputs": []
    },
    {
      "cell_type": "code",
      "source": [
        "vectorstore = Chroma.from_documents(\n",
        "\n",
        "    documents=doc_splits,\n",
        "\n",
        "    collection_name=\"agentic-rag-chroma\",\n",
        "\n",
        "    embedding=embeddings,\n",
        "\n",
        ")"
      ],
      "metadata": {
        "id": "k5VitDbmMGwZ"
      },
      "execution_count": 10,
      "outputs": []
    },
    {
      "cell_type": "code",
      "source": [
        "retriever = vectorstore.as_retriever()"
      ],
      "metadata": {
        "id": "70Q9_bL6MIBB"
      },
      "execution_count": 11,
      "outputs": []
    },
    {
      "cell_type": "code",
      "source": [
        "def retrieve_context(query: str, k: int = 5) -> str:\n",
        "    # Retrieve the top documents relevant to the query\n",
        "    retriever = vectorstore.as_retriever()\n",
        "    docs = retriever.get_relevant_documents(query)\n",
        "    # Select only the top-k documents\n",
        "    top_k_docs = docs[:k]\n",
        "    # Concatenate the text from each document (using a double newline as separator)\n",
        "    context = \"\\n\\n\".join(doc.page_content for doc in top_k_docs)\n",
        "    return context"
      ],
      "metadata": {
        "id": "VWoTMzXaf5vu"
      },
      "execution_count": 12,
      "outputs": []
    },
    {
      "cell_type": "code",
      "source": [
        "@tool\n",
        "def agreement_qa(question: str) -> str:\n",
        "    \"\"\"Answers questions about the agreement based on the provided question.\"\"\"\n",
        "    context = retrieve_context(question, k=5)\n",
        "    prompt = (\n",
        "        f\"You are an expert in analyzing legal agreements. Based on the following excerpts from the agreement, \"\n",
        "        f\"provide a clear and concise answer to the question: '{question}'. If the context does not contain sufficient \"\n",
        "        f\"information to answer the question, say 'The provided agreement excerpts do not contain enough information to answer this question.' \"\n",
        "        f\"Do not make assumptions beyond the given context.\\n\\n\"\n",
        "        f\"Context: {context}\"\n",
        "    )\n",
        "    response = llm.invoke(prompt)\n",
        "    return response.strip()\n",
        "\n",
        "\n",
        "@tool\n",
        "def compliance_obligations_list() -> str:\n",
        "    \"\"\"Lists compliance obligations for each party in JSON format.\"\"\"\n",
        "    query = \"obligations, duties, responsibilities of each party\"\n",
        "    context = retrieve_context(query, k=15)  # Reduced context for focus\n",
        "\n",
        "    prompt = (\n",
        "        f\"Analyze the agreement excerpts and extract compliance obligations. \"\n",
        "        f\"Strictly Return a JSON array with objects containing 'party' and 'obligations'. Example:\\n\"\n",
        "        f'[{{\"party\": \"Tally\", \"obligations\": [\"obligation 1\", \"obligation 2\"]}}]\\n\\n'\n",
        "        f\"1. Output ONLY valid JSON array\\n\"\n",
        "        f\"2. Max 2 obligations per party\\n\"\n",
        "        f\"3. Use exact party names from context\\n\"\n",
        "        f\"4. Remove section numbers\\n\"\n",
        "        f\"5. Exclude definitions\\n\\n\"\n",
        "        f\"Excerpts: {context}\"\n",
        "    )\n",
        "\n",
        "    response = llm.invoke(prompt)\n",
        "    return response.strip()\n",
        "\n",
        "\n",
        "@tool\n",
        "def key_events() -> str:\n",
        "    \"\"\"Extracts key dates and events from the agreement in JSON format.\"\"\"\n",
        "    query = \"effective date, termination date, deadline, renewal, notice period, timeline, YYYY-MM-DD\"\n",
        "    context = retrieve_context(query, k=30)\n",
        "    prompt = (\n",
        "        f\"Extract key dates/events with these rules:\\n\"\n",
        "        f\"1. Only include dates in YYYY-MM-DD format\\n\"\n",
        "        f\"2. Exclude relative time periods like 'within X days'\\n\"\n",
        "        f\"3. Output format: [{{'date': 'YYYY-MM-DD', 'event': 'description'}}]\\n\"\n",
        "        f\"4. If no valid dates, return empty list\\n\\n\"\n",
        "        f\"Excerpts: {context}\"\n",
        "    )\n",
        "    response = llm.invoke(prompt)\n",
        "    return response.strip()\n",
        "\n",
        "@tool\n",
        "def summarize_agreement() -> str:\n",
        "    \"\"\"Provides a concise summary of the agreement.\"\"\"\n",
        "    query = \"summary of the agreement\"\n",
        "    context = retrieve_context(query, k=20)\n",
        "    prompt = (\n",
        "        f\"You are an expert in summarizing legal agreements. Provide a concise and accurate summary of the following excerpts from the agreement in 2-3 sentences. \"\n",
        "        f\"Focus on the main purpose, key parties, and primary obligations or terms. Avoid including unnecessary details or speculation beyond the given context.\\n\\n\"\n",
        "        f\"Excerpts: {context}\"\n",
        "    )\n",
        "    response = llm.invoke(prompt)\n",
        "    return response.strip()\n",
        "\n",
        "tools = [\n",
        "    agreement_qa,\n",
        "    compliance_obligations_list,\n",
        "    key_events,\n",
        "    summarize_agreement\n",
        "]"
      ],
      "metadata": {
        "id": "CmvlXJGnMKka"
      },
      "execution_count": 13,
      "outputs": []
    },
    {
      "cell_type": "code",
      "source": [
        "system_prompt = \"\"\"Respond to the human as helpfully and accurately as possible. You have access to the following tools: {tools}\n",
        "\n",
        "Use a json blob to specify a tool by providing an action key (tool name) and an action_input key (tool input). For tools that do not require input, use an empty object ({{}}) as action_input.\n",
        "\n",
        "Valid \"action\" values: \"Final Answer\" or {tool_names}\n",
        "\n",
        "Provide only ONE action per $JSON_BLOB, as shown:\"\n",
        "\n",
        "```\n",
        "\n",
        "{{\n",
        "\n",
        "\"action\": $TOOL_NAME,\n",
        "\n",
        "\"action_input\": $INPUT\n",
        "\n",
        "}}\n",
        "\n",
        "```\n",
        "\n",
        "Follow this format:\n",
        "\n",
        "Question: input question to answer\n",
        "\n",
        "Thought: consider previous and subsequent steps\n",
        "\n",
        "Action:\n",
        "\n",
        "```\n",
        "\n",
        "$JSON_BLOB\n",
        "\n",
        "```\n",
        "\n",
        "Observation: action result\n",
        "\n",
        "... (repeat Thought/Action/Observation N times)\n",
        "\n",
        "Thought: I know what to respond\n",
        "\n",
        "Action:\n",
        "\n",
        "```\n",
        "\n",
        "{{\n",
        "\n",
        "\"action\": \"Final Answer\",\n",
        "\n",
        "\"action_input\": \"Some text\"\n",
        "\n",
        "}}\n",
        "\n",
        "Begin! Reminder to ALWAYS respond with a valid json blob of a single action.\n",
        "\n",
        "Respond directly if appropriate. Format is Action:```$JSON_BLOB```then Observation\"\"\""
      ],
      "metadata": {
        "id": "9IYHIxFCMNf7"
      },
      "execution_count": 14,
      "outputs": []
    },
    {
      "cell_type": "code",
      "source": [
        "# human_prompt = \"\"\"{input}\n",
        "\n",
        "# {agent_scratchpad}\n",
        "\n",
        "# [REMINDERS]\n",
        "# 1. For JSON outputs: return raw JSON strings, NO formatting or explanations\n",
        "# 2. For key_events: EXCLUDE relative dates like \"within X days\"\n",
        "# 3. Only use YYYY-MM-DD dates from the agreement\n",
        "# 4. Respond ONLY with valid JSON!\"\"\"\n",
        "human_prompt = \"\"\"{input}\n",
        "\n",
        "{agent_scratchpad}\n",
        "\n",
        "(reminder to always respond in a JSON blob)\"\"\""
      ],
      "metadata": {
        "id": "1rRmGk5JMSNU"
      },
      "execution_count": 15,
      "outputs": []
    },
    {
      "cell_type": "code",
      "source": [
        "prompt = ChatPromptTemplate.from_messages(\n",
        "\n",
        "    [\n",
        "\n",
        "        (\"system\", system_prompt),\n",
        "\n",
        "        MessagesPlaceholder(\"chat_history\", optional=True),\n",
        "\n",
        "        (\"human\", human_prompt),\n",
        "\n",
        "    ]\n",
        "\n",
        ")"
      ],
      "metadata": {
        "id": "3U5-6XhSMUWd"
      },
      "execution_count": 16,
      "outputs": []
    },
    {
      "cell_type": "code",
      "source": [
        "prompt = prompt.partial(\n",
        "\n",
        "    tools=render_text_description_and_args(list(tools)),\n",
        "\n",
        "    tool_names=\", \".join([t.name for t in tools]),\n",
        "\n",
        ")"
      ],
      "metadata": {
        "id": "o7ffnNZjMWHn"
      },
      "execution_count": 17,
      "outputs": []
    },
    {
      "cell_type": "code",
      "source": [
        "memory = ConversationBufferMemory()"
      ],
      "metadata": {
        "colab": {
          "base_uri": "https://localhost:8080/"
        },
        "id": "nWLr9HIBMXXI",
        "outputId": "c952015e-4d8d-4b86-cb12-b6bb98bf7785"
      },
      "execution_count": 18,
      "outputs": [
        {
          "output_type": "stream",
          "name": "stderr",
          "text": [
            "<ipython-input-18-a33ea3a4cc0d>:1: LangChainDeprecationWarning: Please see the migration guide at: https://python.langchain.com/docs/versions/migrating_memory/\n",
            "  memory = ConversationBufferMemory()\n"
          ]
        }
      ]
    },
    {
      "cell_type": "code",
      "source": [
        "chain = ( RunnablePassthrough.assign(\n",
        "\n",
        "    agent_scratchpad=lambda x: format_log_to_str(x[\"intermediate_steps\"]),\n",
        "\n",
        "    chat_history=lambda x: memory.chat_memory.messages,\n",
        "\n",
        "    )\n",
        "\n",
        "    | prompt | llm | JSONAgentOutputParser())\n",
        "\n",
        "\n",
        "\n",
        "agent_executor = AgentExecutor(agent=chain, tools=tools, handle_parsing_errors=True, verbose=True, memory=memory)"
      ],
      "metadata": {
        "id": "si8mKotVMZJP"
      },
      "execution_count": 19,
      "outputs": []
    },
    {
      "cell_type": "code",
      "source": [
        "agent_executor.invoke({\"input\": 'Can you tell me the service fees?'})"
      ],
      "metadata": {
        "colab": {
          "base_uri": "https://localhost:8080/"
        },
        "id": "K9wF69-p2mLZ",
        "outputId": "91ebe6fd-3f2e-4dab-ac21-5329ecfc0b4a"
      },
      "execution_count": 20,
      "outputs": [
        {
          "output_type": "stream",
          "name": "stdout",
          "text": [
            "\n",
            "\n",
            "\u001b[1m> Entering new AgentExecutor chain...\u001b[0m\n",
            "\u001b[32;1m\u001b[1;3m\n",
            "\n",
            "Thought: The user is asking about service fees, which are typically found in the agreement. I will use the summarize_agreement tool to find this information.\n",
            "\n",
            "Action:\n",
            "\n",
            "```\n",
            "\n",
            "{\n",
            "\n",
            "\"action\": \"summarize_agreement\",\n",
            "\n",
            "\"action_input\": {}\n",
            "\n",
            "}\n",
            "\n",
            "```\n",
            "\n",
            "Observation\u001b[0m"
          ]
        },
        {
          "output_type": "stream",
          "name": "stderr",
          "text": [
            "<ipython-input-12-1d02e9289860>:4: LangChainDeprecationWarning: The method `BaseRetriever.get_relevant_documents` was deprecated in langchain-core 0.1.46 and will be removed in 1.0. Use :meth:`~invoke` instead.\n",
            "  docs = retriever.get_relevant_documents(query)\n"
          ]
        },
        {
          "output_type": "stream",
          "name": "stdout",
          "text": [
            "\u001b[36;1m\u001b[1;3mCustomers \n",
            " for such Product; \n",
            " (d) for Combined Products with equal to or greater than fifty percent  (50%) and less than sixty-five \n",
            " percent (65%) Tally  Content, the Service Fee rate shall be equal to 2.5% of the Tally 's direct selling \n",
            " price to customer if the Product is not sold through a Channel Partner or Tally  Channel Partners' \n",
            " actual distributor cost for the BuyCo ARC  Customers for such Product; \n",
            " (e) for Combined Products with equal to or greater than thirty percent  (30%) and less than fifty \n",
            " percent (50%) Tally  Content, the Service Fee rate shall be equal to 1.5% of the Tally 's direct selling \n",
            " price to customer if the Product is not sold through a Channel Partner or Tally  Channel Partners' \n",
            " actual distributor cost for the BuyCo ARC  Customers for such Product; \n",
            " (f) for Combined Products with equal to or greater than ten percent  (10%) and less than thirty \n",
            " percent (30%) Tally  Content, the Service Fee rate shall be equal to 1.0% of the Tally 's direct selling \n",
            " price to customer if the Product is not sold through a Channel Partner or Tally  Channel Partners' \n",
            " actual distributor cost for the BuyCo ARC  Customers for such Product; \n",
            " (g) for Combined Products with equal to or greater than one percent  (1%) and less than ten \n",
            " percent (10%) Tally  Content, the Service Fee rate shall be equal to 0.5% of the Taly's direct selling \n",
            " price to customer if the Product is not sold through a Channel Partner or Tally  Channel Partners' \n",
            " actual distributor cost for the BuyCo ARC  Customers for such Product; \n",
            " (h) for Combined Products with less than one percent (1%) Tally  Content, the Service Fee rate \n",
            " shall be equal to 0.25% of the Tally 's direct selling price to customer if the Product is not sold through \n",
            " a Channel Partner or Tally  Channel Partners' actual distributor cost for the BuyCo ARC  Customers \n",
            " for such Product. \n",
            " 5.2  C\u001b[0m\u001b[32;1m\u001b[1;3m\n",
            "\n",
            "Action:\n",
            "\n",
            "```\n",
            "\n",
            "{\n",
            "\n",
            "\"action\": \"Final Answer\",\n",
            "\n",
            "\"action_input\": \"The service fees are as follows:\\n\\n- For Combined Products with equal to or greater than fifty percent (50%) and less than sixty-five percent (65%) Tally Content, the Service Fee rate is 2.5% of the Tally's direct selling price to customer or Tally Channel Partners' actual distributor cost for the BuyCo ARC Customers for such Product.\\n- For Combined Products with equal to or greater than thirty percent (30%) and less than fifty percent (50%) Tally Content, the Service Fee rate is 1.5% of the Tally's direct selling price to customer or Tally Channel Partners' actual distributor cost for the BuyCo ARC Customers for such Product.\\n- For Combined Products with equal to or greater than ten percent (10%) and less than thirty percent (30%) Tally Content, the Service Fee rate is 1.0% of the Tally's direct selling price to customer or Tally Channel Partners' actual distributor cost for the BuyCo ARC Customers for such Product.\\n- For Combined Products with equal to or greater than one percent (1%) and less than ten percent (10%) Tally Content, the Service Fee rate is 0.5% of the Taly's direct selling price to customer or Tally Channel Partners' actual distributor cost for the BuyCo ARC Customers for such Product.\\n- For Combined Products with less than one percent (1%) Tally Content, the Service Fee rate is 0.25% of the Tally's direct selling price to customer or Tally Channel Partners' actual distributor cost for the BuyCo ARC Customers for such Product.\"\n",
            "\n",
            "}\n",
            "\n",
            "```\u001b[0m\n",
            "\n",
            "\u001b[1m> Finished chain.\u001b[0m\n"
          ]
        },
        {
          "output_type": "execute_result",
          "data": {
            "text/plain": [
              "{'input': 'Can you tell me the service fees?',\n",
              " 'history': '',\n",
              " 'output': \"The service fees are as follows:\\n\\n- For Combined Products with equal to or greater than fifty percent (50%) and less than sixty-five percent (65%) Tally Content, the Service Fee rate is 2.5% of the Tally's direct selling price to customer or Tally Channel Partners' actual distributor cost for the BuyCo ARC Customers for such Product.\\n- For Combined Products with equal to or greater than thirty percent (30%) and less than fifty percent (50%) Tally Content, the Service Fee rate is 1.5% of the Tally's direct selling price to customer or Tally Channel Partners' actual distributor cost for the BuyCo ARC Customers for such Product.\\n- For Combined Products with equal to or greater than ten percent (10%) and less than thirty percent (30%) Tally Content, the Service Fee rate is 1.0% of the Tally's direct selling price to customer or Tally Channel Partners' actual distributor cost for the BuyCo ARC Customers for such Product.\\n- For Combined Products with equal to or greater than one percent (1%) and less than ten percent (10%) Tally Content, the Service Fee rate is 0.5% of the Taly's direct selling price to customer or Tally Channel Partners' actual distributor cost for the BuyCo ARC Customers for such Product.\\n- For Combined Products with less than one percent (1%) Tally Content, the Service Fee rate is 0.25% of the Tally's direct selling price to customer or Tally Channel Partners' actual distributor cost for the BuyCo ARC Customers for such Product.\"}"
            ]
          },
          "metadata": {},
          "execution_count": 20
        }
      ]
    },
    {
      "cell_type": "code",
      "source": [
        "agent_executor.invoke({\"input\": 'Summarize the document'})"
      ],
      "metadata": {
        "colab": {
          "base_uri": "https://localhost:8080/"
        },
        "id": "T6d6nngEBoZf",
        "outputId": "3ecb7b36-c6cd-4abf-8ebe-df565f132326"
      },
      "execution_count": 21,
      "outputs": [
        {
          "output_type": "stream",
          "name": "stdout",
          "text": [
            "\n",
            "\n",
            "\u001b[1m> Entering new AgentExecutor chain...\u001b[0m\n",
            "\u001b[32;1m\u001b[1;3m\n",
            "\n",
            "```\n",
            "\n",
            "{\n",
            "\n",
            "\"action\": \"summarize_agreement\",\n",
            "\n",
            "\"action_input\": {}\n",
            "\n",
            "}\n",
            "\n",
            "```\n",
            "\n",
            "Observation\u001b[0m\u001b[36;1m\u001b[1;3mCustomers \n",
            " for such Product; \n",
            " (d) for Combined Products with equal to or greater than fifty percent  (50%) and less than sixty-five \n",
            " percent (65%) Tally  Content, the Service Fee rate shall be equal to 2.5% of the Tally 's direct selling \n",
            " price to customer if the Product is not sold through a Channel Partner or Tally  Channel Partners' \n",
            " actual distributor cost for the BuyCo ARC  Customers for such Product; \n",
            " (e) for Combined Products with equal to or greater than thirty percent  (30%) and less than fifty \n",
            " percent (50%) Tally  Content, the Service Fee rate shall be equal to 1.5% of the Tally 's direct selling \n",
            " price to customer if the Product is not sold through a Channel Partner or Tally  Channel Partners' \n",
            " actual distributor cost for the BuyCo ARC  Customers for such Product; \n",
            " (f) for Combined Products with equal to or greater than ten percent  (10%) and less than thirty \n",
            " percent (30%) Tally  Content, the Service Fee rate shall be equal to 1.0% of the Tally 's direct selling \n",
            " price to customer if the Product is not sold through a Channel Partner or Tally  Channel Partners' \n",
            " actual distributor cost for the BuyCo ARC  Customers for such Product; \n",
            " (g) for Combined Products with equal to or greater than one percent  (1%) and less than ten \n",
            " percent (10%) Tally  Content, the Service Fee rate shall be equal to 0.5% of the Tally 's direct selling \n",
            " price to customer if the Product is not sold through a Channel Partner or Tally  Channel Partners' \n",
            " actual distributor cost for the BuyCo ARC  Customers for such Product; \n",
            " (h) for Combined Products with less than one percent (1%) Tally  Content, the Service Fee rate \n",
            " shall be equal to 0.25% of the Tally 's direct selling price to customer if the Product is not sold through \n",
            " a Channel Partner or Tally  Channel Partners' actual distributor cost for the BuyCo ARC  Customers \n",
            " for such Product. \n",
            " 5.2\u001b[0m\u001b[32;1m\u001b[1;3m\n",
            "\n",
            "Action:\n",
            "\n",
            "```\n",
            "\n",
            "{\n",
            "\n",
            "\"action\": \"Final Answer\",\n",
            "\n",
            "\"action_input\": \"The service fees for Combined Products vary based on the percentage of Tally Content. For products with 50-65% Tally Content, the fee is 2.5% of the direct selling price or Tally Channel Partners' actual distributor cost. For products with 30-49% Tally Content, the fee is 1.5%. For products with 10-29% Tally Content, the fee is 1%. For products with 1-9% Tally Content, the fee is 0.5%. For products with less than 1% Tally Content, the fee is 0.25%. These fees apply to BuyCo ARC Customers and are not applicable if the product is sold through a Channel Partner.\"\n",
            "\n",
            "}\n",
            "\n",
            "Observation\u001b[0m\n",
            "\n",
            "\u001b[1m> Finished chain.\u001b[0m\n"
          ]
        },
        {
          "output_type": "execute_result",
          "data": {
            "text/plain": [
              "{'input': 'Summarize the document',\n",
              " 'history': \"Human: Can you tell me the service fees?\\nAI: The service fees are as follows:\\n\\n- For Combined Products with equal to or greater than fifty percent (50%) and less than sixty-five percent (65%) Tally Content, the Service Fee rate is 2.5% of the Tally's direct selling price to customer or Tally Channel Partners' actual distributor cost for the BuyCo ARC Customers for such Product.\\n- For Combined Products with equal to or greater than thirty percent (30%) and less than fifty percent (50%) Tally Content, the Service Fee rate is 1.5% of the Tally's direct selling price to customer or Tally Channel Partners' actual distributor cost for the BuyCo ARC Customers for such Product.\\n- For Combined Products with equal to or greater than ten percent (10%) and less than thirty percent (30%) Tally Content, the Service Fee rate is 1.0% of the Tally's direct selling price to customer or Tally Channel Partners' actual distributor cost for the BuyCo ARC Customers for such Product.\\n- For Combined Products with equal to or greater than one percent (1%) and less than ten percent (10%) Tally Content, the Service Fee rate is 0.5% of the Taly's direct selling price to customer or Tally Channel Partners' actual distributor cost for the BuyCo ARC Customers for such Product.\\n- For Combined Products with less than one percent (1%) Tally Content, the Service Fee rate is 0.25% of the Tally's direct selling price to customer or Tally Channel Partners' actual distributor cost for the BuyCo ARC Customers for such Product.\",\n",
              " 'output': \"The service fees for Combined Products vary based on the percentage of Tally Content. For products with 50-65% Tally Content, the fee is 2.5% of the direct selling price or Tally Channel Partners' actual distributor cost. For products with 30-49% Tally Content, the fee is 1.5%. For products with 10-29% Tally Content, the fee is 1%. For products with 1-9% Tally Content, the fee is 0.5%. For products with less than 1% Tally Content, the fee is 0.25%. These fees apply to BuyCo ARC Customers and are not applicable if the product is sold through a Channel Partner.\"}"
            ]
          },
          "metadata": {},
          "execution_count": 21
        }
      ]
    },
    {
      "cell_type": "code",
      "source": [
        "full_text = \" \".join([doc.page_content for doc in docs_list])"
      ],
      "metadata": {
        "id": "4AdPt9_99n8H"
      },
      "execution_count": 22,
      "outputs": []
    },
    {
      "cell_type": "code",
      "source": [
        "import json"
      ],
      "metadata": {
        "id": "WhSb_Jei-cf4"
      },
      "execution_count": 23,
      "outputs": []
    },
    {
      "cell_type": "code",
      "source": [
        "key_events_prompt = \"\"\"\n",
        "Given the following text extracted from a legal document, identify key events with their dates and descriptions. Return the result as a JSON list of objects, where each object has a \"date\" (in YYYY-MM-DD format) and an \"event\" (a descriptive string). Focus on dates explicitly mentioned and significant actions like signatures or agreement terms.\n",
        "\n",
        "Text:\n",
        "{full_text}\n",
        "\n",
        "Output format:\n",
        "[\n",
        "    {{\"date\": \"YYYY-MM-DD\", \"event\": \"description\"}},\n",
        "    ...\n",
        "]\n",
        "\"\"\"\n",
        "formatted_key_events_prompt = key_events_prompt.format(full_text=full_text)\n",
        "key_events_response = llm.generate([formatted_key_events_prompt])  # Returns LLMResult\n",
        "# Extract the text from the first generation\n",
        "key_events_text = key_events_response.generations[0][0].text\n",
        "try:\n",
        "    key_events_json = json.loads(key_events_text)  # Parse the text as JSON\n",
        "    print(json.dumps(key_events_json, indent=2))\n",
        "except json.JSONDecodeError as e:\n",
        "    print(f\"Error decoding key events JSON: {e}\")\n",
        "    print(\"Raw response:\", key_events_text)"
      ],
      "metadata": {
        "colab": {
          "base_uri": "https://localhost:8080/"
        },
        "id": "PbR3BvT--Bmj",
        "outputId": "b12be421-93a5-4f4f-833f-e4718ee880ca"
      },
      "execution_count": 24,
      "outputs": [
        {
          "output_type": "stream",
          "name": "stdout",
          "text": [
            "[\n",
            "  {\n",
            "    \"date\": \"2017-03-31\",\n",
            "    \"event\": \"Memorandum of Understanding entered into between Tally Inc. and BuyCo Limited\"\n",
            "  },\n",
            "  {\n",
            "    \"date\": \"2006-07-01\",\n",
            "    \"event\": \"Limited distribution of Products by Tally to BuyCo ARC Accounts begins\"\n",
            "  },\n",
            "  {\n",
            "    \"date\": \"2017-09-30\",\n",
            "    \"event\": \"Service Fee for Designated BuyCo ARC Customers ends\"\n",
            "  },\n",
            "  {\n",
            "    \"date\": \"2017-10-01\",\n",
            "    \"event\": \"Service Fee rate for all Product reduces to 1.0%\"\n",
            "  },\n",
            "  {\n",
            "    \"date\": \"2017-12-31\",\n",
            "    \"event\": \"Reduced Service Fee rate of 1.0% continues until the earlier of this date or the date on which BuyCo's Aggregate Ownership Interest falls below 12.5%\"\n",
            "  },\n",
            "  {\n",
            "    \"date\": \"2006-07-01\",\n",
            "    \"event\": \"Payment for Non-Designated BuyCo ARC Customers begins\"\n",
            "  },\n",
            "  {\n",
            "    \"date\": \"2007-04-06\",\n",
            "    \"event\": \"Payment for Non-Designated BuyCo ARC Customers is due\"\n",
            "  },\n",
            "  {\n",
            "    \"date\": \"2017-07-01\",\n",
            "    \"event\": \"Service Fee rate for Combined Products for Designated BuyCo ARC Customers begins\"\n",
            "  },\n",
            "  {\n",
            "    \"date\": \"2017-12-31\",\n",
            "    \"event\": \"Service Fee for Combined Products for Designated BuyCo ARC Customers ends\"\n",
            "  },\n",
            "  {\n",
            "    \"date\": \"2023-06-07\",\n",
            "    \"event\": \"Non-Disclosure Agreement entered into between Tally Services Inc and BuyCo Ltd\"\n",
            "  },\n",
            "  {\n",
            "    \"date\": \"2023-06-20\",\n",
            "    \"event\": \"Non-Disclosure Agreement signed by Tally Services Inc\"\n",
            "  },\n",
            "  {\n",
            "    \"date\": \"2023-06-21\",\n",
            "    \"event\": \"Non-Disclosure Agreement signed by BuyCo Ltd\"\n",
            "  }\n",
            "]\n"
          ]
        }
      ]
    },
    {
      "cell_type": "code",
      "source": [
        "compliance_prompt = \"\"\"\n",
        "Given the following text extracted from a legal document, identify the parties involved and their specific obligations. Return the result as a JSON list of objects, where each object has a \"party\" (the name of the entity) and \"obligations\" (a list of obligation strings). Follow these rules:\n",
        "- For each named party, include a maximum of 2 specific obligations.\n",
        "- If there are obligations that apply to both parties, include an entry with \"party\": \"Both\" and list up to 2 obligations that both parties must fulfill.\n",
        "- Focus on explicit obligations or responsibilities assigned to parties in the text.\n",
        "\n",
        "Text:\n",
        "{full_text}\n",
        "\n",
        "Output format:\n",
        "[\n",
        "    {{\"party\": \"Party Name\", \"obligations\": [\"obligation 1\", \"obligation 2\"]}},\n",
        "    {{\"party\": \"Both\", \"obligations\": [\"shared obligation 1\", \"shared obligation 2\"]}},\n",
        "    ...\n",
        "]\n",
        "\"\"\"\n",
        "formatted_compliance_prompt = compliance_prompt.format(full_text=full_text)\n",
        "compliance_response = llm.generate([formatted_compliance_prompt])  # Returns LLMResult\n",
        "# Extract the text from the first generation\n",
        "compliance_text = compliance_response.generations[0][0].text\n",
        "try:\n",
        "    compliance_json = json.loads(compliance_text)  # Parse the text as JSON\n",
        "    print(\"Compliance Obligatory List:\", json.dumps(compliance_json, indent=2))\n",
        "except json.JSONDecodeError as e:\n",
        "    print(f\"Error decoding compliance JSON: {e}\")\n",
        "    print(\"Raw response:\", compliance_text)\n"
      ],
      "metadata": {
        "colab": {
          "base_uri": "https://localhost:8080/"
        },
        "id": "N1ejGbo4-DSZ",
        "outputId": "fc2bf1cc-f364-41f6-df0c-39f959a4c1a3"
      },
      "execution_count": 25,
      "outputs": [
        {
          "output_type": "stream",
          "name": "stdout",
          "text": [
            "Compliance Obligatory List: [\n",
            "  {\n",
            "    \"party\": \"Tally Inc\",\n",
            "    \"obligations\": [\n",
            "      \"Market, sell, or otherwise distribute Products, or appoint its sales representatives or channel partners to do so, with respect to Designated BuyCo ARC Customers and Non-Designated BuyCo ARC Customers subject to payment of the applicable Service Fee to BuyCo and other amounts due under Section 4.\",\n",
            "      \"Pay a Service Fee to BuyCo equal to the product of Tally's direct selling price to customer or Tally Channel Partners' actual distributor cost for the BuyCo ARC Customers, multiplied by a Service Fee rate of 4.3% for SCO Product and a figure specified in Section 5 for Combined Product, for the period beginning from July 1, 2006 through September 30, 2017.\"\n",
            "    ]\n",
            "  },\n",
            "  {\n",
            "    \"party\": \"BuyCo Limited\",\n",
            "    \"obligations\": [\n",
            "      \"Allow Tally to market, sell, or otherwise distribute Products, or appoint its sales representatives or channel partners to do so, with respect to Designated BuyCo ARC Customers and Non-Designated BuyCo ARC Customers subject to Tally's payment of the applicable Service Fee to BuyCo and other amounts due under Section 4.\",\n",
            "      \"Receive a Service Fee from Tally equal to the product of Tally's direct selling price to customer or Tally Channel Partners' actual distributor cost for the BuyCo ARC Customers, multiplied by a Service Fee rate of 4.3% for SCO Product and a figure specified in Section 5 for Combined Product, for the period beginning from July 1, 2006 through September 30, 2017.\"\n",
            "    ]\n",
            "  },\n",
            "  {\n",
            "    \"party\": \"Both\",\n",
            "    \"obligations\": [\n",
            "      \"Execute the MOU in good faith and in accordance with its terms.\",\n",
            "      \"Provide documents evidencing sales data of Products and the amount of Service Fees that accrue in each month of the applicable period prior to each of the due date, or no later than the forty (40) days after the period has ended, depending on the clause.\"\n",
            "    ]\n",
            "  }\n",
            "]\n"
          ]
        }
      ]
    },
    {
      "cell_type": "code",
      "source": [
        "compliance_score_prompt = \"\"\"\n",
        "Given the following text extracted from a legal document, calculate the Compliance Obligatory Score, a custom metric to gauge the number of obligations in the agreement and their importance in keeping the agreement compliant and in force, on a scale from 1 to 100. Assess the obligations and their significance based on the text. Return only a JSON object with a \"score\" field, and do not include any additional text, explanations, or comments outside the JSON.\n",
        "\n",
        "Text:\n",
        "{full_text}\n",
        "\n",
        "Output format:\n",
        "{{\n",
        "    \"score\": <integer between 1 and 100>\n",
        "}}\n",
        "\"\"\"\n",
        "formatted_compliance_score_prompt = compliance_score_prompt.format(full_text=full_text)\n",
        "compliance_score_response = llm.generate([formatted_compliance_score_prompt])\n",
        "compliance_score_text = compliance_score_response.generations[0][0].text\n",
        "try:\n",
        "    compliance_score_json = json.loads(compliance_score_text)\n",
        "    print(\"Compliance Obligatory Score:\", json.dumps(compliance_score_json, indent=2))\n",
        "except json.JSONDecodeError as e:\n",
        "    print(f\"Error decoding compliance score JSON: {e}\")\n",
        "    print(\"Raw response:\", compliance_score_text)"
      ],
      "metadata": {
        "colab": {
          "base_uri": "https://localhost:8080/"
        },
        "id": "cYJxADFt_S3T",
        "outputId": "8cae2bab-8add-4353-a2fc-57786d13eac5"
      },
      "execution_count": 26,
      "outputs": [
        {
          "output_type": "stream",
          "name": "stdout",
          "text": [
            "Compliance Obligatory Score: {\n",
            "  \"score\": 85\n",
            "}\n"
          ]
        }
      ]
    }
  ]
}